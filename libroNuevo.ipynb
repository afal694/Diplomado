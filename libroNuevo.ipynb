{
 "cells": [
  {
   "cell_type": "markdown",
   "id": "f995295d-205f-469b-9524-428e90487124",
   "metadata": {},
   "source": [
    "# Mi primer título"
   ]
  },
  {
   "cell_type": "markdown",
   "id": "aed2c40a-9ce8-45db-bab4-0dc4fb6d368a",
   "metadata": {},
   "source": [
    "Este es mi primer notebook\n",
    "\n",
    "[markdwon guide](https://www.markdownguide.org/)\n"
   ]
  },
  {
   "cell_type": "code",
   "execution_count": null,
   "id": "6f04555a-8765-4e56-a933-e25ea7b4c3ce",
   "metadata": {},
   "outputs": [],
   "source": []
  }
 ],
 "metadata": {
  "kernelspec": {
   "display_name": "Python 3 (ipykernel)",
   "language": "python",
   "name": "python3"
  },
  "language_info": {
   "codemirror_mode": {
    "name": "ipython",
    "version": 3
   },
   "file_extension": ".py",
   "mimetype": "text/x-python",
   "name": "python",
   "nbconvert_exporter": "python",
   "pygments_lexer": "ipython3",
   "version": "3.9.12"
  }
 },
 "nbformat": 4,
 "nbformat_minor": 5
}
