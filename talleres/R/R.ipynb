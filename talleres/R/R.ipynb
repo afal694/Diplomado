{
 "cells": [
  {
   "cell_type": "code",
   "execution_count": 1,
   "id": "fcfd36c5-25a3-4edf-8504-c467ce0da327",
   "metadata": {},
   "outputs": [],
   "source": [
    "x = 5"
   ]
  },
  {
   "cell_type": "code",
   "execution_count": 4,
   "id": "937cc924-1cd9-4177-86ca-558b695b2fd3",
   "metadata": {},
   "outputs": [
    {
     "name": "stdout",
     "output_type": "stream",
     "text": [
      "[1] 5\n"
     ]
    }
   ],
   "source": [
    "print(x)"
   ]
  },
  {
   "cell_type": "code",
   "execution_count": 9,
   "id": "80048f64-209c-459c-b33c-c375e0f43b42",
   "metadata": {},
   "outputs": [
    {
     "data": {
      "text/html": [
       "-1"
      ],
      "text/latex": [
       "-1"
      ],
      "text/markdown": [
       "-1"
      ],
      "text/plain": [
       "[1] -1"
      ]
     },
     "metadata": {},
     "output_type": "display_data"
    }
   ],
   "source": [
    "steps = pi/2\n",
    "\n",
    "\n",
    "sin(3*steps)"
   ]
  },
  {
   "cell_type": "code",
   "execution_count": 12,
   "id": "289cb6d1-f281-4de3-bfb3-d0c8332e68a6",
   "metadata": {},
   "outputs": [
    {
     "data": {
      "text/html": [
       "<table>\n",
       "<thead><tr><th scope=col>Nombre</th><th scope=col>Vida_max</th><th scope=col>Ataque</th><th scope=col>Defensa</th><th scope=col>Vivo</th></tr></thead>\n",
       "<tbody>\n",
       "\t<tr><td>Cloud </td><td>100   </td><td>75    </td><td>50    </td><td> TRUE </td></tr>\n",
       "\t<tr><td>Tiffa </td><td> 90   </td><td>80    </td><td>20    </td><td> TRUE </td></tr>\n",
       "\t<tr><td>Aerith</td><td>120   </td><td>30    </td><td>45    </td><td>FALSE </td></tr>\n",
       "\t<tr><td>Barret</td><td>150   </td><td>65    </td><td>60    </td><td> TRUE </td></tr>\n",
       "</tbody>\n",
       "</table>\n"
      ],
      "text/latex": [
       "\\begin{tabular}{r|lllll}\n",
       " Nombre & Vida\\_max & Ataque & Defensa & Vivo\\\\\n",
       "\\hline\n",
       "\t Cloud  & 100    & 75     & 50     &  TRUE \\\\\n",
       "\t Tiffa  &  90    & 80     & 20     &  TRUE \\\\\n",
       "\t Aerith & 120    & 30     & 45     & FALSE \\\\\n",
       "\t Barret & 150    & 65     & 60     &  TRUE \\\\\n",
       "\\end{tabular}\n"
      ],
      "text/markdown": [
       "\n",
       "| Nombre | Vida_max | Ataque | Defensa | Vivo |\n",
       "|---|---|---|---|---|\n",
       "| Cloud  | 100    | 75     | 50     |  TRUE  |\n",
       "| Tiffa  |  90    | 80     | 20     |  TRUE  |\n",
       "| Aerith | 120    | 30     | 45     | FALSE  |\n",
       "| Barret | 150    | 65     | 60     |  TRUE  |\n",
       "\n"
      ],
      "text/plain": [
       "  Nombre Vida_max Ataque Defensa Vivo \n",
       "1 Cloud  100      75     50       TRUE\n",
       "2 Tiffa   90      80     20       TRUE\n",
       "3 Aerith 120      30     45      FALSE\n",
       "4 Barret 150      65     60       TRUE"
      ]
     },
     "metadata": {},
     "output_type": "display_data"
    }
   ],
   "source": [
    "rpg <- data.frame(\n",
    "    Nombre = c(\"Cloud\", \"Tiffa\", \"Aerith\", \"Barret\"),\n",
    "    Vida_max = c(100L, 90L, 120L, 150L),\n",
    "    Ataque = c(75, 80, 30, 65),\n",
    "    Defensa = c(50, 20, 45, 60),\n",
    "    Vivo = c(TRUE, TRUE, FALSE, TRUE)\n",
    ")\n",
    "\n",
    "rpg\n"
   ]
  },
  {
   "cell_type": "code",
   "execution_count": 13,
   "id": "ca66feb0-5a53-47b0-8c59-43c6e5c10091",
   "metadata": {},
   "outputs": [
    {
     "data": {
      "text/html": [
       "5"
      ],
      "text/latex": [
       "5"
      ],
      "text/markdown": [
       "5"
      ],
      "text/plain": [
       "[1] 5"
      ]
     },
     "metadata": {},
     "output_type": "display_data"
    },
    {
     "data": {
      "text/html": [
       "4"
      ],
      "text/latex": [
       "4"
      ],
      "text/markdown": [
       "4"
      ],
      "text/plain": [
       "[1] 4"
      ]
     },
     "metadata": {},
     "output_type": "display_data"
    }
   ],
   "source": [
    "ncol(rpg)\n",
    "nrow(rpg)"
   ]
  },
  {
   "cell_type": "code",
   "execution_count": 15,
   "id": "8ff9244f-a232-4306-9485-836c97574d30",
   "metadata": {},
   "outputs": [
    {
     "data": {
      "text/html": [
       "<table>\n",
       "<thead><tr><th scope=col>Vida_max</th></tr></thead>\n",
       "<tbody>\n",
       "\t<tr><td>100</td></tr>\n",
       "\t<tr><td> 90</td></tr>\n",
       "\t<tr><td>120</td></tr>\n",
       "\t<tr><td>150</td></tr>\n",
       "</tbody>\n",
       "</table>\n"
      ],
      "text/latex": [
       "\\begin{tabular}{r|l}\n",
       " Vida\\_max\\\\\n",
       "\\hline\n",
       "\t 100\\\\\n",
       "\t  90\\\\\n",
       "\t 120\\\\\n",
       "\t 150\\\\\n",
       "\\end{tabular}\n"
      ],
      "text/markdown": [
       "\n",
       "| Vida_max |\n",
       "|---|\n",
       "| 100 |\n",
       "|  90 |\n",
       "| 120 |\n",
       "| 150 |\n",
       "\n"
      ],
      "text/plain": [
       "  Vida_max\n",
       "1 100     \n",
       "2  90     \n",
       "3 120     \n",
       "4 150     "
      ]
     },
     "metadata": {},
     "output_type": "display_data"
    }
   ],
   "source": [
    "rpg[2]"
   ]
  },
  {
   "cell_type": "code",
   "execution_count": 25,
   "id": "49fea4d8-6794-4f25-8e7f-081c452b899c",
   "metadata": {},
   "outputs": [
    {
     "data": {
      "text/html": [
       "<table>\n",
       "<thead><tr><th scope=col>Nombre</th></tr></thead>\n",
       "<tbody>\n",
       "\t<tr><td>Cloud </td></tr>\n",
       "\t<tr><td>Tiffa </td></tr>\n",
       "\t<tr><td>Aerith</td></tr>\n",
       "\t<tr><td>Barret</td></tr>\n",
       "</tbody>\n",
       "</table>\n"
      ],
      "text/latex": [
       "\\begin{tabular}{r|l}\n",
       " Nombre\\\\\n",
       "\\hline\n",
       "\t Cloud \\\\\n",
       "\t Tiffa \\\\\n",
       "\t Aerith\\\\\n",
       "\t Barret\\\\\n",
       "\\end{tabular}\n"
      ],
      "text/markdown": [
       "\n",
       "| Nombre |\n",
       "|---|\n",
       "| Cloud  |\n",
       "| Tiffa  |\n",
       "| Aerith |\n",
       "| Barret |\n",
       "\n"
      ],
      "text/plain": [
       "  Nombre\n",
       "1 Cloud \n",
       "2 Tiffa \n",
       "3 Aerith\n",
       "4 Barret"
      ]
     },
     "metadata": {},
     "output_type": "display_data"
    }
   ],
   "source": [
    " rpg[\"Nombre\"]"
   ]
  },
  {
   "cell_type": "code",
   "execution_count": 26,
   "id": "17e8c152-36bd-48e4-af1d-eef3ec01b9d3",
   "metadata": {},
   "outputs": [
    {
     "data": {
      "text/plain": [
       "    Nombre     Vida_max         Ataque         Defensa         Vivo        \n",
       " Aerith:1   Min.   : 90.0   Min.   :30.00   Min.   :20.00   Mode :logical  \n",
       " Barret:1   1st Qu.: 97.5   1st Qu.:56.25   1st Qu.:38.75   FALSE:1        \n",
       " Cloud :1   Median :110.0   Median :70.00   Median :47.50   TRUE :3        \n",
       " Tiffa :1   Mean   :115.0   Mean   :62.50   Mean   :43.75                  \n",
       "            3rd Qu.:127.5   3rd Qu.:76.25   3rd Qu.:52.50                  \n",
       "            Max.   :150.0   Max.   :80.00   Max.   :60.00                  "
      ]
     },
     "metadata": {},
     "output_type": "display_data"
    }
   ],
   "source": [
    "summary(rpg)"
   ]
  }
 ],
 "metadata": {
  "kernelspec": {
   "display_name": "R",
   "language": "R",
   "name": "ir"
  },
  "language_info": {
   "codemirror_mode": "r",
   "file_extension": ".r",
   "mimetype": "text/x-r-source",
   "name": "R",
   "pygments_lexer": "r",
   "version": "3.6.1"
  }
 },
 "nbformat": 4,
 "nbformat_minor": 5
}
