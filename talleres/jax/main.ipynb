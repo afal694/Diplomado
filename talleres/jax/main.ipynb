{
 "cells": [
  {
   "cell_type": "code",
   "execution_count": 10,
   "metadata": {},
   "outputs": [],
   "source": [
    "from __future__ import print_function\n",
    "import jax.numpy as np\n",
    "import numpy as onp\n",
    "import matplotlib.pyplot as plt\n",
    "from jax import grad,jit\n",
    "import pandas as pd"
   ]
  },
  {
   "cell_type": "code",
   "execution_count": 11,
   "metadata": {},
   "outputs": [
    {
     "data": {
      "text/html": [
       "<div>\n",
       "<style scoped>\n",
       "    .dataframe tbody tr th:only-of-type {\n",
       "        vertical-align: middle;\n",
       "    }\n",
       "\n",
       "    .dataframe tbody tr th {\n",
       "        vertical-align: top;\n",
       "    }\n",
       "\n",
       "    .dataframe thead th {\n",
       "        text-align: right;\n",
       "    }\n",
       "</style>\n",
       "<table border=\"1\" class=\"dataframe\">\n",
       "  <thead>\n",
       "    <tr style=\"text-align: right;\">\n",
       "      <th></th>\n",
       "      <th>Mediciones</th>\n",
       "      <th>Observaciones</th>\n",
       "    </tr>\n",
       "  </thead>\n",
       "  <tbody>\n",
       "    <tr>\n",
       "      <th>0</th>\n",
       "      <td>-2.000000</td>\n",
       "      <td>-10.183900</td>\n",
       "    </tr>\n",
       "    <tr>\n",
       "      <th>1</th>\n",
       "      <td>-1.959596</td>\n",
       "      <td>-12.724681</td>\n",
       "    </tr>\n",
       "    <tr>\n",
       "      <th>2</th>\n",
       "      <td>-1.919192</td>\n",
       "      <td>-7.432376</td>\n",
       "    </tr>\n",
       "    <tr>\n",
       "      <th>3</th>\n",
       "      <td>-1.878788</td>\n",
       "      <td>-9.872590</td>\n",
       "    </tr>\n",
       "    <tr>\n",
       "      <th>4</th>\n",
       "      <td>-1.838384</td>\n",
       "      <td>-10.174177</td>\n",
       "    </tr>\n",
       "    <tr>\n",
       "      <th>...</th>\n",
       "      <td>...</td>\n",
       "      <td>...</td>\n",
       "    </tr>\n",
       "    <tr>\n",
       "      <th>95</th>\n",
       "      <td>1.838384</td>\n",
       "      <td>10.930610</td>\n",
       "    </tr>\n",
       "    <tr>\n",
       "      <th>96</th>\n",
       "      <td>1.878788</td>\n",
       "      <td>8.960411</td>\n",
       "    </tr>\n",
       "    <tr>\n",
       "      <th>97</th>\n",
       "      <td>1.919192</td>\n",
       "      <td>9.630197</td>\n",
       "    </tr>\n",
       "    <tr>\n",
       "      <th>98</th>\n",
       "      <td>1.959596</td>\n",
       "      <td>11.177407</td>\n",
       "    </tr>\n",
       "    <tr>\n",
       "      <th>99</th>\n",
       "      <td>2.000000</td>\n",
       "      <td>8.233714</td>\n",
       "    </tr>\n",
       "  </tbody>\n",
       "</table>\n",
       "<p>100 rows × 2 columns</p>\n",
       "</div>"
      ],
      "text/plain": [
       "    Mediciones  Observaciones\n",
       "0    -2.000000     -10.183900\n",
       "1    -1.959596     -12.724681\n",
       "2    -1.919192      -7.432376\n",
       "3    -1.878788      -9.872590\n",
       "4    -1.838384     -10.174177\n",
       "..         ...            ...\n",
       "95    1.838384      10.930610\n",
       "96    1.878788       8.960411\n",
       "97    1.919192       9.630197\n",
       "98    1.959596      11.177407\n",
       "99    2.000000       8.233714\n",
       "\n",
       "[100 rows x 2 columns]"
      ]
     },
     "execution_count": 11,
     "metadata": {},
     "output_type": "execute_result"
    }
   ],
   "source": [
    "# datos simulados\n",
    "\n",
    "onp.random.seed(22)\n",
    "\n",
    "x = onp.linspace(-2, 2, 100)\n",
    "# y = 5*x + 2\n",
    "y = 5*x + 2*onp.random.normal(0, 1, len(x))\n",
    "\n",
    "# print results\n",
    "\n",
    "data = pd.DataFrame({\"Mediciones\": x, \"Observaciones\": y})\n",
    "\n",
    "data\n"
   ]
  },
  {
   "cell_type": "code",
   "execution_count": 12,
   "metadata": {},
   "outputs": [
    {
     "data": {
      "image/png": "[encoded data removed]",
      "text/plain": [
       "<Figure size 1080x576 with 1 Axes>"
      ]
     },
     "metadata": {
      "needs_background": "light"
     },
     "output_type": "display_data"
    }
   ],
   "source": [
    "plt.figure(figsize=(15, 8))\n",
    "plt.plot(x, y, '.')\n",
    "plt.xlabel(\"Mediciones\", fontsize=15)\n",
    "plt.ylabel(\"Observaciones\", fontsize=15)\n",
    "plt.legend([\"Datos\"], fontsize=15)\n",
    "plt.show()\n"
   ]
  },
  {
   "cell_type": "markdown",
   "metadata": {},
   "source": [
    "### Genera y grafica datos simulados con Widgets"
   ]
  },
  {
   "cell_type": "code",
   "execution_count": 15,
   "metadata": {},
   "outputs": [],
   "source": [
    "from ipywidgets import interactive\n",
    "import plotly\n",
    "import plotly.graph_objs as go"
   ]
  },
  {
   "cell_type": "code",
   "execution_count": 18,
   "metadata": {},
   "outputs": [
    {
     "data": {
      "application/vnd.jupyter.widget-view+json": {
       "model_id": "be088ac0098e4d8eaa87f92b0ff7e646",
       "version_major": 2,
       "version_minor": 0
      },
      "text/plain": [
       "interactive(children=(FloatSlider(value=0.0, description='sigma', max=10.0, step=0.2), FloatSlider(value=0.0, …"
      ]
     },
     "metadata": {},
     "output_type": "display_data"
    }
   ],
   "source": [
    "def simular_datos(sigma=0, w1=0):\n",
    "    # choose a seed\n",
    "    onp.random.seed(22)\n",
    "\n",
    "    # generate data\n",
    "    x = onp.linspace(-2, 2, 100)\n",
    "    y = w1*x+onp.random.normal(loc=0, scale=sigma, size=len(x))\n",
    "    data = pd.DataFrame({\"Mediciones\": x, \"Observaciones\": y})\n",
    "    plt.figure(figsize=(10, 7))\n",
    "    plt.plot(x, y, 'o', markersize=5)\n",
    "    plt.xlabel(\"Mediciones\", fontsize=15)\n",
    "    plt.ylabel(\"Observaciones\", fontsize=15)\n",
    "    plt.legend([\"Datos\"], fontsize=15)\n",
    "    plt.ylim([-30, 30])\n",
    "    plt.title(f'Simulación de ${w1}x+\\epsilon$, $\\epsilon$ ~ N(0,σ²)')\n",
    "    plt.show()\n",
    "    return x, y\n",
    "\n",
    "\n",
    "interactive_plot = interactive(\n",
    "    simular_datos, sigma=(0, 10., 0.2), w1=(-10., 10.))\n",
    "interactive_plot\n"
   ]
  },
  {
   "cell_type": "code",
   "execution_count": null,
   "metadata": {},
   "outputs": [],
   "source": []
  }
 ],
 "metadata": {
  "kernelspec": {
   "display_name": "Python 3.9.12 ('Prueba')",
   "language": "python",
   "name": "python3"
  },
  "language_info": {
   "codemirror_mode": {
    "name": "ipython",
    "version": 3
   },
   "file_extension": ".py",
   "mimetype": "text/x-python",
   "name": "python",
   "nbconvert_exporter": "python",
   "pygments_lexer": "ipython3",
   "version": "3.9.12"
  },
  "vscode": {
   "interpreter": {
    "hash": "4f1d59c3b711d8941e9549770f3276d4d7e5d7a0c89b92f2f87eb306ff702023"
   }
  }
 },
 "nbformat": 4,
 "nbformat_minor": 4
}
