{
 "cells": [
  {
   "cell_type": "code",
   "execution_count": 14,
   "metadata": {},
   "outputs": [
    {
     "name": "stdout",
     "output_type": "stream",
     "text": [
      "{(1, 'account_number'): '5048375212666092', (2, 'first_name'): 'Normie', (3, 'last_name'): 'Baguley', (4, 'current_balance'): '$4649.51', (5, 'string'): 'Value'}\n",
      "Normie\n"
     ]
    }
   ],
   "source": [
    "# diccionario con tuplas como llaves\n",
    "my_dict = {(1, \"account_number\"): \"5048375212666092\", (2, \"first_name\"): \"Normie\",\n",
    "           (3, \"last_name\"): \"Baguley\", (4, \"current_balance\"): \"$4649.51\", (5, \"string\"): \"Value\"}\n",
    "\n",
    "print(my_dict)\n",
    "print(my_dict[(2, \"first_name\")])\n",
    "\n",
    "# no se pueden tener llaves en un diccinario que sean listas, conjuntos o diccionarios porque son unhasheables\n",
    "\n"
   ]
  },
  {
   "cell_type": "code",
   "execution_count": 34,
   "metadata": {},
   "outputs": [
    {
     "name": "stdout",
     "output_type": "stream",
     "text": [
      "dict_keys(['widget'])\n",
      "debug:  on\n",
      "window:  {'title': 'Sample Konfabulator Widget', 'name': 'main_window', 'width': 500, 'height': 500}\n",
      "image:  {'src': 'Images/Sun.png', 'name': 'sun1', 'hOffset': 250, 'vOffset': 250, 'alignment': 'center'}\n",
      "text:  {'data': 'Click Here', 'size': 36, 'style': 'bold', 'name': 'text1', 'hOffset': 250, 'vOffset': 100, 'alignment': 'center', 'onMouseUp': 'sun1.opacity = (sun1.opacity / 100) * 90;'}\n",
      "nre dict:  {'widget': {'debug': 'on', 'image': {'src': 'Images/Sun.png', 'name': 'sun1', 'hOffset': 250, 'vOffset': 250, 'alignment': 'center'}}}\n"
     ]
    }
   ],
   "source": [
    "my_dict_2 = {\"widget\": {\n",
    "    \"debug\": \"on\",\n",
    "    \"window\": {\n",
    "        \"title\": \"Sample Konfabulator Widget\",\n",
    "        \"name\": \"main_window\",\n",
    "        \"width\": 500,\n",
    "        \"height\": 500\n",
    "    },\n",
    "    \"image\": {\n",
    "        \"src\": \"Images/Sun.png\",\n",
    "        \"name\": \"sun1\",\n",
    "        \"hOffset\": 250,\n",
    "        \"vOffset\": 250,\n",
    "        \"alignment\": \"center\"\n",
    "    },\n",
    "    \"text\": {\n",
    "        \"data\": \"Click Here\",\n",
    "        \"size\": 36,\n",
    "        \"style\": \"bold\",\n",
    "        \"name\": \"text1\",\n",
    "        \"hOffset\": 250,\n",
    "        \"vOffset\": 100,\n",
    "        \"alignment\": \"center\",\n",
    "        \"onMouseUp\": \"sun1.opacity = (sun1.opacity / 100) * 90;\"\n",
    "    }\n",
    "}}\n",
    "\n",
    "print(my_dict_2.keys())\n",
    "for key in my_dict_2[\"widget\"].keys():\n",
    "    print(key + \": \", my_dict_2[\"widget\"][key])\n",
    "\n",
    "popped = my_dict_2[\"widget\"].pop(\"window\")\n",
    "\n",
    "item = my_dict_2[\"widget\"].popitem()\n",
    "\n",
    "print(\"nre dict: \", my_dict_2)\n"
   ]
  },
  {
   "cell_type": "code",
   "execution_count": 1,
   "metadata": {},
   "outputs": [],
   "source": [
    "import pandas as pd\n",
    "from iterable import IterateDataFrame"
   ]
  },
  {
   "cell_type": "code",
   "execution_count": 2,
   "metadata": {},
   "outputs": [],
   "source": [
    "# leer archivo\n",
    "\n",
    "data = pd.read_csv(\"data.csv\")"
   ]
  },
  {
   "cell_type": "code",
   "execution_count": 3,
   "metadata": {},
   "outputs": [
    {
     "data": {
      "text/plain": [
       "account_number     5108759236712676\n",
       "first_name                  Georgie\n",
       "last_name                   Newrick\n",
       "current_balance            $2669.86\n",
       "last_update              10/14/2021\n",
       "Name: 1, dtype: object"
      ]
     },
     "metadata": {},
     "output_type": "display_data"
    }
   ],
   "source": [
    "display(data.loc[1])"
   ]
  },
  {
   "cell_type": "code",
   "execution_count": 5,
   "metadata": {},
   "outputs": [
    {
     "data": {
      "text/plain": [
       "account_number     5048375212666092\n",
       "first_name                   Normie\n",
       "last_name                   Baguley\n",
       "current_balance            $4649.51\n",
       "last_update              12/11/2021\n",
       "Name: 0, dtype: object"
      ]
     },
     "execution_count": 5,
     "metadata": {},
     "output_type": "execute_result"
    }
   ],
   "source": [
    "iter = IterateDataFrame(data)\n",
    "next(iter)\n"
   ]
  },
  {
   "cell_type": "code",
   "execution_count": 9,
   "metadata": {},
   "outputs": [
    {
     "data": {
      "text/plain": [
       "account_number     5048373488695135\n",
       "first_name                    Bette\n",
       "last_name                 Dalliwatr\n",
       "current_balance            $1125.12\n",
       "last_update               7/31/2022\n",
       "Name: 7, dtype: object"
      ]
     },
     "execution_count": 9,
     "metadata": {},
     "output_type": "execute_result"
    }
   ],
   "source": [
    "next(iter)\n",
    "next(iter)\n",
    "next(iter)\n",
    "next(iter)\n"
   ]
  }
 ],
 "metadata": {
  "kernelspec": {
   "display_name": "Python 3.9.12 ('Prueba')",
   "language": "python",
   "name": "python3"
  },
  "language_info": {
   "codemirror_mode": {
    "name": "ipython",
    "version": 3
   },
   "file_extension": ".py",
   "mimetype": "text/x-python",
   "name": "python",
   "nbconvert_exporter": "python",
   "pygments_lexer": "ipython3",
   "version": "3.9.12"
  },
  "orig_nbformat": 4,
  "vscode": {
   "interpreter": {
    "hash": "4f1d59c3b711d8941e9549770f3276d4d7e5d7a0c89b92f2f87eb306ff702023"
   }
  }
 },
 "nbformat": 4,
 "nbformat_minor": 2
}
