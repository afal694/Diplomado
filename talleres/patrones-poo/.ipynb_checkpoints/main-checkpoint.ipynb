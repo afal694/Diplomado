{
 "cells": [
  {
   "cell_type": "code",
   "execution_count": 2,
   "metadata": {},
   "outputs": [],
   "source": [
    "from classes import *\n",
    "\n",
    "maria = Student(\"María\", \"Hernández\", \"15/04/1994\", 1)\n"
   ]
  },
  {
   "cell_type": "code",
   "execution_count": 3,
   "metadata": {},
   "outputs": [],
   "source": [
    "maria.add_grade(2.6, MATH)\n",
    "maria.add_grade(3.5, MATH)\n",
    "maria.add_grade(4.8, MATH)\n"
   ]
  },
  {
   "cell_type": "code",
   "execution_count": 4,
   "metadata": {},
   "outputs": [],
   "source": [
    "maria.add_grade(4.3, BIOLOGY)\n",
    "maria.add_grade(3.8, BIOLOGY)\n",
    "maria.add_grade(3.5, BIOLOGY)"
   ]
  },
  {
   "cell_type": "code",
   "execution_count": 9,
   "metadata": {},
   "outputs": [
    {
     "ename": "Exception",
     "evalue": "Máximo número de notas agregadas",
     "output_type": "error",
     "traceback": [
      "\u001b[0;31m---------------------------------------------------------------------------\u001b[0m",
      "\u001b[0;31mException\u001b[0m                                 Traceback (most recent call last)",
      "Input \u001b[0;32mIn [9]\u001b[0m, in \u001b[0;36m<cell line: 1>\u001b[0;34m()\u001b[0m\n\u001b[0;32m----> 1\u001b[0m \u001b[43mmaria\u001b[49m\u001b[38;5;241;43m.\u001b[39;49m\u001b[43madd_grade\u001b[49m\u001b[43m(\u001b[49m\u001b[38;5;241;43m2.6\u001b[39;49m\u001b[43m,\u001b[49m\u001b[43m \u001b[49m\u001b[43mSPANISH\u001b[49m\u001b[43m)\u001b[49m\n\u001b[1;32m      2\u001b[0m maria\u001b[38;5;241m.\u001b[39madd_grade(\u001b[38;5;241m3.4\u001b[39m, SPANISH)\n\u001b[1;32m      3\u001b[0m maria\u001b[38;5;241m.\u001b[39madd_grade(\u001b[38;5;241m4.5\u001b[39m, SPANISH)\n",
      "File \u001b[0;32m~/Documentos/DiplomadoIA/Diplomado/talleres/patrones-poo/classes.py:53\u001b[0m, in \u001b[0;36mStudent.add_grade\u001b[0;34m(self, grade, course)\u001b[0m\n\u001b[1;32m     51\u001b[0m     course\u001b[38;5;241m.\u001b[39mappend(grade)\n\u001b[1;32m     52\u001b[0m \u001b[38;5;28;01melse\u001b[39;00m:\n\u001b[0;32m---> 53\u001b[0m     \u001b[38;5;28;01mraise\u001b[39;00m \u001b[38;5;167;01mException\u001b[39;00m(\u001b[38;5;124m\"\u001b[39m\u001b[38;5;124mMáximo número de notas agregadas\u001b[39m\u001b[38;5;124m\"\u001b[39m)\n",
      "\u001b[0;31mException\u001b[0m: Máximo número de notas agregadas"
     ]
    }
   ],
   "source": [
    "\n",
    "maria.add_grade(2.6, SPANISH)\n",
    "maria.add_grade(3.4, SPANISH)\n",
    "maria.add_grade(4.5, SPANISH)"
   ]
  },
  {
   "cell_type": "code",
   "execution_count": 19,
   "metadata": {},
   "outputs": [
    {
     "name": "stdout",
     "output_type": "stream",
     "text": [
      "\n",
      "        Estudiante: María Hernández\n",
      "        Biología: [4.3, 3.8, 3.5]\n",
      "        Matemáticas: [2.6, 3.5, 4.8]\n",
      "        Español: [2.6, 3.4, 4.2]\n",
      "        \n",
      " promedio math = 3.633333333333333 \n",
      " promedio spanish = 3.4 \n",
      " promedio biology = 3.8666666666666667 \n"
     ]
    }
   ],
   "source": [
    "print(maria)\n",
    "print(maria.get_mean(MATH))\n",
    "print(maria.get_mean(SPANISH))\n",
    "print(maria.get_mean(BIOLOGY))"
   ]
  },
  {
   "cell_type": "code",
   "execution_count": 8,
   "metadata": {
    "collapsed": true,
    "jupyter": {
     "outputs_hidden": true
    },
    "tags": []
   },
   "outputs": [
    {
     "name": "stdout",
     "output_type": "stream",
     "text": [
      "Help on class Student in module classes:\n",
      "\n",
      "class Student(Person)\n",
      " |  Student(name, last_name, birthday, id)\n",
      " |  \n",
      " |  Class Student inherites from Person class to calculate \n",
      " |  average course grades to Math, Biology and Spanish\n",
      " |  \n",
      " |  Method resolution order:\n",
      " |      Student\n",
      " |      Person\n",
      " |      builtins.object\n",
      " |  \n",
      " |  Methods defined here:\n",
      " |  \n",
      " |  __init__(self, name, last_name, birthday, id)\n",
      " |      Initialize self.  See help(type(self)) for accurate signature.\n",
      " |  \n",
      " |  __str__(self) -> str\n",
      " |      Return str(self).\n",
      " |  \n",
      " |  add_grade(self, grade: float, course: str) -> None\n",
      " |  \n",
      " |  calc_avg(self, course: list) -> float\n",
      " |  \n",
      " |  from_dict(cls, dict: Dict) -> None\n",
      " |  \n",
      " |  get_mean(self, course: str) -> str\n",
      " |  \n",
      " |  ----------------------------------------------------------------------\n",
      " |  Data descriptors inherited from Person:\n",
      " |  \n",
      " |  __dict__\n",
      " |      dictionary for instance variables (if defined)\n",
      " |  \n",
      " |  __weakref__\n",
      " |      list of weak references to the object (if defined)\n",
      "\n"
     ]
    }
   ],
   "source": [
    "help(Student)"
   ]
  },
  {
   "cell_type": "code",
   "execution_count": 18,
   "metadata": {},
   "outputs": [
    {
     "name": "stdout",
     "output_type": "stream",
     "text": [
      "{'name': 'Carlos', 'last_name': 'Rodriguez', 'birthday': '14/06/1996'}\n"
     ]
    }
   ],
   "source": [
    "my_dict = {\"name\": \"Carlos\", \"last_name\": \"Rodriguez\",\"birthday\": \"14/06/1996\"}\n",
    "print(my_dict)"
   ]
  },
  {
   "cell_type": "code",
   "execution_count": 22,
   "metadata": {},
   "outputs": [
    {
     "ename": "TypeError",
     "evalue": "from_dict() missing 1 required positional argument: 'dict'",
     "output_type": "error",
     "traceback": [
      "\u001b[0;31m---------------------------------------------------------------------------\u001b[0m",
      "\u001b[0;31mTypeError\u001b[0m                                 Traceback (most recent call last)",
      "Input \u001b[0;32mIn [22]\u001b[0m, in \u001b[0;36m<cell line: 1>\u001b[0;34m()\u001b[0m\n\u001b[0;32m----> 1\u001b[0m student2 \u001b[38;5;241m=\u001b[39m \u001b[43mStudent\u001b[49m\u001b[38;5;241;43m.\u001b[39;49m\u001b[43mfrom_dict\u001b[49m\u001b[43m(\u001b[49m\u001b[38;5;124;43m\"\u001b[39;49m\u001b[38;5;124;43mmy_dict\u001b[39;49m\u001b[38;5;124;43m\"\u001b[39;49m\u001b[43m)\u001b[49m\n",
      "\u001b[0;31mTypeError\u001b[0m: from_dict() missing 1 required positional argument: 'dict'"
     ]
    }
   ],
   "source": [
    "# student2 = Student.from_dict(\"my_dict\") \n",
    "student2 = Student(\"Andres\", \"Ariza\", \"06/04/1994\") "
   ]
  }
 ],
 "metadata": {
  "kernelspec": {
   "display_name": "Python 3 (ipykernel)",
   "language": "python",
   "name": "python3"
  },
  "language_info": {
   "codemirror_mode": {
    "name": "ipython",
    "version": 3
   },
   "file_extension": ".py",
   "mimetype": "text/x-python",
   "name": "python",
   "nbconvert_exporter": "python",
   "pygments_lexer": "ipython3",
   "version": "3.9.12"
  },
  "vscode": {
   "interpreter": {
    "hash": "916dbcbb3f70747c44a77c7bcd40155683ae19c65e1c03b4aa3499c5328201f1"
   }
  }
 },
 "nbformat": 4,
 "nbformat_minor": 4
}
