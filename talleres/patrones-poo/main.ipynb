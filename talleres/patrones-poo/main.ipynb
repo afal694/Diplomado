{
 "cells": [
  {
   "cell_type": "code",
   "execution_count": 1,
   "metadata": {},
   "outputs": [],
   "source": [
    "from classes import *\n",
    "\n",
    "maria = Student(\"María\", \"Hernández\", \"15/04/1994\", 1)\n"
   ]
  },
  {
   "cell_type": "code",
   "execution_count": 2,
   "metadata": {},
   "outputs": [],
   "source": [
    "maria.add_grade(2.6, MATH)\n",
    "maria.add_grade(3.5, MATH)\n",
    "maria.add_grade(4.8, MATH)\n"
   ]
  },
  {
   "cell_type": "code",
   "execution_count": 3,
   "metadata": {},
   "outputs": [],
   "source": [
    "maria.add_grade(4.3, BIOLOGY)\n",
    "maria.add_grade(3.8, BIOLOGY)\n",
    "maria.add_grade(3.5, BIOLOGY)"
   ]
  },
  {
   "cell_type": "code",
   "execution_count": 4,
   "metadata": {},
   "outputs": [],
   "source": [
    "\n",
    "maria.add_grade(2.6, SPANISH)\n",
    "maria.add_grade(3.4, SPANISH)\n",
    "maria.add_grade(4.5, SPANISH)"
   ]
  },
  {
   "cell_type": "code",
   "execution_count": 5,
   "metadata": {},
   "outputs": [
    {
     "name": "stdout",
     "output_type": "stream",
     "text": [
      "\n",
      "        Estudiante: María Hernández\n",
      "        id: 1\n",
      "        date: 15-04-1994\n",
      "        Biología: [4.3, 3.8, 3.5]\n",
      "        Español: [2.6, 3.4, 4.5]\n",
      "        Matemáticas: [2.6, 3.5, 4.8]\n",
      "        \n",
      " promedio math = 3.633333333333333 \n",
      " promedio spanish = 3.5 \n",
      " promedio biology = 3.8666666666666667 \n"
     ]
    }
   ],
   "source": [
    "print(maria)\n",
    "print(maria.get_mean( MATH))\n",
    "print(maria.get_mean(SPANISH))\n",
    "print(maria.get_mean(BIOLOGY))\n"
   ]
  },
  {
   "cell_type": "code",
   "execution_count": 6,
   "metadata": {
    "collapsed": true,
    "jupyter": {
     "outputs_hidden": true
    },
    "tags": []
   },
   "outputs": [
    {
     "name": "stdout",
     "output_type": "stream",
     "text": [
      "Help on class Student in module classes:\n",
      "\n",
      "class Student(Person)\n",
      " |  Student(name, last_name, birthday, id)\n",
      " |  \n",
      " |  Class Student inherites from Person class to calculate \n",
      " |  average course grades to Math, Biology and Spanish\n",
      " |  \n",
      " |  Method resolution order:\n",
      " |      Student\n",
      " |      Person\n",
      " |      builtins.object\n",
      " |  \n",
      " |  Methods defined here:\n",
      " |  \n",
      " |  __init__(self, name, last_name, birthday, id)\n",
      " |      Initialize self.  See help(type(self)) for accurate signature.\n",
      " |  \n",
      " |  __str__(self) -> str\n",
      " |      Return str(self).\n",
      " |  \n",
      " |  add_grade(self, grade: float, course: str) -> None\n",
      " |  \n",
      " |  get_mean(self, course: str) -> str\n",
      " |  \n",
      " |  ----------------------------------------------------------------------\n",
      " |  Class methods defined here:\n",
      " |  \n",
      " |  from_dict(obj) from builtins.type\n",
      " |  \n",
      " |  ----------------------------------------------------------------------\n",
      " |  Static methods defined here:\n",
      " |  \n",
      " |  calc_avg(course: list) -> float\n",
      " |  \n",
      " |  to_dash_date(date: str) -> str\n",
      " |  \n",
      " |  ----------------------------------------------------------------------\n",
      " |  Data descriptors inherited from Person:\n",
      " |  \n",
      " |  __dict__\n",
      " |      dictionary for instance variables (if defined)\n",
      " |  \n",
      " |  __weakref__\n",
      " |      list of weak references to the object (if defined)\n",
      "\n"
     ]
    }
   ],
   "source": [
    "help(Student)"
   ]
  },
  {
   "cell_type": "code",
   "execution_count": 7,
   "metadata": {},
   "outputs": [
    {
     "name": "stdout",
     "output_type": "stream",
     "text": [
      "{'name': 'Carlos', 'last_name': 'Rodriguez', 'birthday': '14/06/1996'}\n"
     ]
    }
   ],
   "source": [
    "my_dict = {\"name\": \"Carlos\", \"last_name\": \"Rodriguez\",\n",
    "           \"birthday\": \"14/06/1996\"}\n",
    "print(my_dict)\n"
   ]
  },
  {
   "cell_type": "code",
   "execution_count": 8,
   "metadata": {},
   "outputs": [],
   "source": [
    "student2 = Student.from_dict(my_dict)\n",
    "student2.add_grade(4.5, MATH)\n",
    "student2.add_grade(4.8, MATH)\n",
    "student2.add_grade(1.3, MATH)\n",
    "\n",
    "student2.add_grade(3.5, SPANISH)\n",
    "student2.add_grade(3.8, SPANISH)\n",
    "student2.add_grade(2.3, SPANISH)\n",
    "\n",
    "student2.add_grade(4.5, BIOLOGY)\n",
    "student2.add_grade(2.8, BIOLOGY)\n",
    "student2.add_grade(3.3, BIOLOGY)\n"
   ]
  },
  {
   "cell_type": "code",
   "execution_count": 9,
   "metadata": {},
   "outputs": [
    {
     "name": "stdout",
     "output_type": "stream",
     "text": [
      "\n",
      "        Estudiante: Carlos Rodriguez\n",
      "        id: 2\n",
      "        date: 14-06-1996\n",
      "        Biología: [4.5, 2.8, 3.3]\n",
      "        Español: [3.5, 3.8, 2.3]\n",
      "        Matemáticas: [4.5, 4.8, 1.3]\n",
      "        \n"
     ]
    }
   ],
   "source": [
    "print(student2)\n"
   ]
  },
  {
   "cell_type": "code",
   "execution_count": 12,
   "metadata": {},
   "outputs": [
    {
     "name": "stdout",
     "output_type": "stream",
     "text": [
      "\n",
      "        Estudiante: Felipe Londoño\n",
      "        id: 5\n",
      "        date: 14-06-1996\n",
      "        Biología: []\n",
      "        Español: []\n",
      "        Matemáticas: []\n",
      "        \n"
     ]
    }
   ],
   "source": [
    "student3 = Student.from_dict(\n",
    "    {'name': 'Felipe', 'last_name': 'Londoño', 'birthday': '14/06/1996'})\n",
    "print(student3)\n"
   ]
  }
 ],
 "metadata": {
  "kernelspec": {
   "display_name": "Python 3 (ipykernel)",
   "language": "python",
   "name": "python3"
  },
  "language_info": {
   "codemirror_mode": {
    "name": "ipython",
    "version": 3
   },
   "file_extension": ".py",
   "mimetype": "text/x-python",
   "name": "python",
   "nbconvert_exporter": "python",
   "pygments_lexer": "ipython3",
   "version": "3.7.3"
  },
  "vscode": {
   "interpreter": {
    "hash": "916dbcbb3f70747c44a77c7bcd40155683ae19c65e1c03b4aa3499c5328201f1"
   }
  }
 },
 "nbformat": 4,
 "nbformat_minor": 4
}
