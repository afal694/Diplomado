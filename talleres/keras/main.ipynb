{
 "cells": [
  {
   "cell_type": "code",
   "execution_count": 2,
   "metadata": {},
   "outputs": [],
   "source": [
    "import tensorflow as tf\n",
    "from tensorflow import keras\n",
    "import numpy as np\n",
    "import matplotlib.pyplot as plt"
   ]
  },
  {
   "cell_type": "code",
   "execution_count": 7,
   "metadata": {},
   "outputs": [],
   "source": [
    "# simulación de datos\n",
    "\n",
    "x = np.linspace(-10, 10, 50)\n",
    "y = 2*x**2+3*x+5*np.random.normal(0, 4, size=len(x))\n"
   ]
  },
  {
   "cell_type": "code",
   "execution_count": 4,
   "metadata": {},
   "outputs": [
    {
     "name": "stdout",
     "output_type": "stream",
     "text": [
      "[-10.          -9.59183673  -9.18367347  -8.7755102   -8.36734694\n",
      "  -7.95918367  -7.55102041  -7.14285714  -6.73469388  -6.32653061\n",
      "  -5.91836735  -5.51020408  -5.10204082  -4.69387755  -4.28571429\n",
      "  -3.87755102  -3.46938776  -3.06122449  -2.65306122  -2.24489796\n",
      "  -1.83673469  -1.42857143  -1.02040816  -0.6122449   -0.20408163\n",
      "   0.20408163   0.6122449    1.02040816   1.42857143   1.83673469\n",
      "   2.24489796   2.65306122   3.06122449   3.46938776   3.87755102\n",
      "   4.28571429   4.69387755   5.10204082   5.51020408   5.91836735\n",
      "   6.32653061   6.73469388   7.14285714   7.55102041   7.95918367\n",
      "   8.36734694   8.7755102    9.18367347   9.59183673  10.        ]\n"
     ]
    }
   ],
   "source": [
    "print(x)"
   ]
  },
  {
   "cell_type": "code",
   "execution_count": 5,
   "metadata": {},
   "outputs": [
    {
     "name": "stdout",
     "output_type": "stream",
     "text": [
      "[151.8467017  190.84728192 114.43051038 111.88273794  69.98526314\n",
      " 109.10924479  81.96016325  61.62897708  79.51641229  29.27513534\n",
      "  60.32958858  49.67009872  17.69692739 -13.56685532  44.37767094\n",
      "  20.36689775  33.41252964  12.26791434  30.3151772    9.77237687\n",
      "  44.48786189  -4.7147106   37.29668328  -1.96852554 -20.78111941\n",
      " -19.68322209   5.49240761  -4.13673963  30.07595522 -19.9249599\n",
      "   6.69882125  22.43019698  21.28849791  33.50294447  53.07452491\n",
      "  51.79151531  55.10959853  67.78847749  44.83324155  86.2897059\n",
      "  93.03571342 109.12098447  90.1169664  118.03745889 139.55557662\n",
      " 139.71703642 177.58169262 198.58102845 197.19294926 232.51866331]\n"
     ]
    }
   ],
   "source": [
    "print(y)"
   ]
  },
  {
   "cell_type": "code",
   "execution_count": 14,
   "metadata": {},
   "outputs": [
    {
     "data": {
      "image/png": "[encoded data removed]",
      "text/plain": [
       "<Figure size 1080x576 with 1 Axes>"
      ]
     },
     "metadata": {
      "needs_background": "light"
     },
     "output_type": "display_data"
    }
   ],
   "source": [
    "# visualizando datos\n",
    "plt.figure(figsize=(15, 8))\n",
    "plt.title(\"Visualización de datos\", fontsize=15)\n",
    "plt.plot(x, y, '.')\n",
    "plt.legend([\"Datos\"], fontsize=15)\n",
    "plt.xlabel(\"$Tiempos$\", fontsize=15)\n",
    "plt.ylabel(\"$Valor$\", fontsize=15)\n",
    "\n",
    "plt.grid()\n",
    "\n",
    "plt.show()\n"
   ]
  },
  {
   "cell_type": "markdown",
   "metadata": {},
   "source": [
    "![perceptron](./perceptron.png)"
   ]
  },
  {
   "cell_type": "code",
   "execution_count": 17,
   "metadata": {},
   "outputs": [],
   "source": [
    "model = keras.Sequential(keras.layers.Dense(units=1, input_shape=(1,)))\n"
   ]
  },
  {
   "cell_type": "code",
   "execution_count": 19,
   "metadata": {},
   "outputs": [],
   "source": [
    "# compilando NN (forma de optimizar)\n",
    "model.compile(optimizer=\"sgd\", loss=\"mean_squared_error\")\n"
   ]
  },
  {
   "cell_type": "code",
   "execution_count": 20,
   "metadata": {},
   "outputs": [
    {
     "name": "stdout",
     "output_type": "stream",
     "text": [
      "Model: \"sequential_1\"\n",
      "_________________________________________________________________\n",
      "Layer (type)                 Output Shape              Param #   \n",
      "=================================================================\n",
      "dense_1 (Dense)              (None, 1)                 2         \n",
      "=================================================================\n",
      "Total params: 2\n",
      "Trainable params: 2\n",
      "Non-trainable params: 0\n",
      "_________________________________________________________________\n"
     ]
    }
   ],
   "source": [
    "# resumen de la NN\n",
    "model.summary()"
   ]
  },
  {
   "cell_type": "code",
   "execution_count": 29,
   "metadata": {},
   "outputs": [
    {
     "name": "stdout",
     "output_type": "stream",
     "text": [
      "('Failed to import pydot. You must `pip install pydot` and install graphviz (https://graphviz.gitlab.io/download/), ', 'for `pydotprint` to work.')\n"
     ]
    }
   ],
   "source": [
    "# visualizar modelos en forma de grafo\n",
    "from tensorflow.keras.utils import plot_model\n",
    "plot_model(model)\n"
   ]
  },
  {
   "cell_type": "code",
   "execution_count": 30,
   "metadata": {},
   "outputs": [
    {
     "name": "stderr",
     "output_type": "stream",
     "text": [
      "2022-08-21 23:21:59.650880: I tensorflow/compiler/mlir/mlir_graph_optimization_pass.cc:116] None of the MLIR optimization passes are enabled (registered 2)\n",
      "2022-08-21 23:21:59.669817: I tensorflow/core/platform/profile_utils/cpu_utils.cc:112] CPU Frequency: 3593345000 Hz\n"
     ]
    },
    {
     "name": "stdout",
     "output_type": "stream",
     "text": [
      "Epoch 1/10\n",
      "2/2 [==============================] - 0s 41ms/step - loss: 9725.4082\n",
      "Epoch 2/10\n",
      "2/2 [==============================] - 0s 2ms/step - loss: 9158.4134\n",
      "Epoch 3/10\n",
      "2/2 [==============================] - 0s 2ms/step - loss: 8213.6248\n",
      "Epoch 4/10\n",
      "2/2 [==============================] - 0s 4ms/step - loss: 7203.1045\n",
      "Epoch 5/10\n",
      "2/2 [==============================] - 0s 4ms/step - loss: 7550.5148\n",
      "Epoch 6/10\n",
      "2/2 [==============================] - 0s 3ms/step - loss: 7434.7017\n",
      "Epoch 7/10\n",
      "2/2 [==============================] - 0s 2ms/step - loss: 7132.3019\n",
      "Epoch 8/10\n",
      "2/2 [==============================] - 0s 5ms/step - loss: 7210.6322\n",
      "Epoch 9/10\n",
      "2/2 [==============================] - 0s 8ms/step - loss: 7599.6641\n",
      "Epoch 10/10\n",
      "2/2 [==============================] - 0s 2ms/step - loss: 6604.4647\n"
     ]
    },
    {
     "data": {
      "text/plain": [
       "<tensorflow.python.keras.callbacks.History at 0x7efbb598fdf0>"
      ]
     },
     "execution_count": 30,
     "metadata": {},
     "output_type": "execute_result"
    }
   ],
   "source": [
    "# entrenando red neuronal (Fancy para ajustar los datos)\n",
    "model.fit(x, y, epochs=10, verbose=1)\n"
   ]
  },
  {
   "cell_type": "code",
   "execution_count": 31,
   "metadata": {},
   "outputs": [
    {
     "name": "stdout",
     "output_type": "stream",
     "text": [
      "[array([[3.713388]], dtype=float32), array([22.840014], dtype=float32)]\n",
      "\n",
      "Objeto pesos:  [array([[3.713388]], dtype=float32), array([22.840014], dtype=float32)]\n",
      "\n",
      "Number of weights -> 2\n",
      "\n",
      "w = : [3.713388](weight)\n",
      "\n",
      "b = [22.840014](\"Weigth\" -> Bias)\n"
     ]
    }
   ],
   "source": [
    "# visualizar datos de la red\n",
    "w = model.get_weights()\n",
    "print(w)\n",
    "\n",
    "print(\"\\nObjeto pesos: \", w)\n",
    "print(\"\\nNumber of weights -> \" + str(len(w)))\n",
    "print('\\nw = : ' + str(w[0][0]) + '(weight)')\n",
    "print(\"\\nb = \" + str(w[1])+'(\"Weigth\" -> Bias)')\n"
   ]
  },
  {
   "cell_type": "code",
   "execution_count": 32,
   "metadata": {},
   "outputs": [
    {
     "name": "stdout",
     "output_type": "stream",
     "text": [
      "[[-14.293867 ]\n",
      " [-12.7782   ]\n",
      " [-11.262529 ]\n",
      " [ -9.746859 ]\n",
      " [ -8.231192 ]\n",
      " [ -6.715523 ]\n",
      " [ -5.199856 ]\n",
      " [ -3.684187 ]\n",
      " [ -2.168518 ]\n",
      " [ -0.6528492]\n",
      " [  0.8628197]\n",
      " [  2.3784866]\n",
      " [  3.8941574]\n",
      " [  5.4098244]\n",
      " [  6.925494 ]\n",
      " [  8.441162 ]\n",
      " [  9.956831 ]\n",
      " [ 11.4725   ]\n",
      " [ 12.988168 ]\n",
      " [ 14.503837 ]\n",
      " [ 16.019505 ]\n",
      " [ 17.535173 ]\n",
      " [ 19.050842 ]\n",
      " [ 20.566511 ]\n",
      " [ 22.08218  ]\n",
      " [ 23.597847 ]\n",
      " [ 25.113516 ]\n",
      " [ 26.629185 ]\n",
      " [ 28.144854 ]\n",
      " [ 29.660522 ]\n",
      " [ 31.17619  ]\n",
      " [ 32.69186  ]\n",
      " [ 34.207527 ]\n",
      " [ 35.723198 ]\n",
      " [ 37.238865 ]\n",
      " [ 38.75453  ]\n",
      " [ 40.270203 ]\n",
      " [ 41.78587  ]\n",
      " [ 43.30154  ]\n",
      " [ 44.817207 ]\n",
      " [ 46.33288  ]\n",
      " [ 47.848545 ]\n",
      " [ 49.364212 ]\n",
      " [ 50.879883 ]\n",
      " [ 52.39555  ]\n",
      " [ 53.911217 ]\n",
      " [ 55.426888 ]\n",
      " [ 56.94256  ]\n",
      " [ 58.45823  ]\n",
      " [ 59.973892 ]]\n"
     ]
    }
   ],
   "source": [
    "# predecir valores dentro de los datos\n",
    "predecir = model.predict(x)\n",
    "\n",
    "print(predecir)\n"
   ]
  },
  {
   "cell_type": "code",
   "execution_count": 33,
   "metadata": {},
   "outputs": [
    {
     "data": {
      "image/png": "[encoded data removed]",
      "text/plain": [
       "<Figure size 1080x576 with 1 Axes>"
      ]
     },
     "metadata": {
      "needs_background": "light"
     },
     "output_type": "display_data"
    }
   ],
   "source": [
    "# visualizat resultados\n",
    "\n",
    "plt.figure(figsize=(15, 8))\n",
    "plt.plot(x, predecir, '-r')\n",
    "plt.plot(x, y, '.')\n",
    "plt.title(\"Model vs Data\")\n",
    "plt.show()\n"
   ]
  },
  {
   "cell_type": "code",
   "execution_count": 37,
   "metadata": {},
   "outputs": [
    {
     "name": "stdout",
     "output_type": "stream",
     "text": [
      "Model: \"sequential_2\"\n",
      "_________________________________________________________________\n",
      "Layer (type)                 Output Shape              Param #   \n",
      "=================================================================\n",
      "dense_2 (Dense)              (None, 5)                 10        \n",
      "_________________________________________________________________\n",
      "dense_3 (Dense)              (None, 10)                60        \n",
      "_________________________________________________________________\n",
      "dense_4 (Dense)              (None, 20)                220       \n",
      "_________________________________________________________________\n",
      "dense_5 (Dense)              (None, 1)                 21        \n",
      "=================================================================\n",
      "Total params: 311\n",
      "Trainable params: 311\n",
      "Non-trainable params: 0\n",
      "_________________________________________________________________\n"
     ]
    }
   ],
   "source": [
    "# mejorando red neuronal\n",
    "model2 = tf.keras.Sequential(\n",
    "    [keras.layers.Dense(units=5, input_shape=(1,), activation=\"softplus\"), keras.layers.Dense(units=10,  activation=\"softplus\"), keras.layers.Dense(units=20,  activation=\"softplus\"), keras.layers.Dense(units=1)])\n",
    "\n",
    "model2.compile(optimizer=\"adam\", loss=\"mean_squared_error\")\n",
    "model2.summary()\n"
   ]
  },
  {
   "cell_type": "code",
   "execution_count": 38,
   "metadata": {},
   "outputs": [],
   "source": [
    "history = model2.fit(x, y, epochs=1000, verbose=0)\n"
   ]
  },
  {
   "cell_type": "code",
   "execution_count": 39,
   "metadata": {},
   "outputs": [],
   "source": [
    "x_test = np.linspace(x[0], x[-1], 300)\n",
    "predecir_2 = model2.predict(x_test)\n"
   ]
  },
  {
   "cell_type": "code",
   "execution_count": 40,
   "metadata": {},
   "outputs": [
    {
     "data": {
      "image/png": "[encoded data removed]",
      "text/plain": [
       "<Figure size 1080x576 with 1 Axes>"
      ]
     },
     "metadata": {
      "needs_background": "light"
     },
     "output_type": "display_data"
    }
   ],
   "source": [
    "# visualizat resultados\n",
    "\n",
    "plt.figure(figsize=(15, 8))\n",
    "plt.plot(x_test, predecir_2, '-r')\n",
    "plt.plot(x, y, '.')\n",
    "plt.title(\"Model vs Data\")\n",
    "plt.show()"
   ]
  },
  {
   "cell_type": "code",
   "execution_count": 41,
   "metadata": {},
   "outputs": [
    {
     "data": {
      "image/png": "[encoded data removed]",
      "text/plain": [
       "<Figure size 1080x576 with 1 Axes>"
      ]
     },
     "metadata": {
      "needs_background": "light"
     },
     "output_type": "display_data"
    }
   ],
   "source": [
    "# visualizar resultados\n",
    "\n",
    "plt.figure(figsize=(15, 8))\n",
    "plt.plot(history.history[\"loss\"], '-r', label=\"Loss\")\n",
    "plt.title(\"Model vs Data\")\n",
    "plt.show()"
   ]
  }
 ],
 "metadata": {
  "kernelspec": {
   "display_name": "Python 3.9.12 ('Prueba')",
   "language": "python",
   "name": "python3"
  },
  "language_info": {
   "codemirror_mode": {
    "name": "ipython",
    "version": 3
   },
   "file_extension": ".py",
   "mimetype": "text/x-python",
   "name": "python",
   "nbconvert_exporter": "python",
   "pygments_lexer": "ipython3",
   "version": "3.9.12"
  },
  "orig_nbformat": 4,
  "vscode": {
   "interpreter": {
    "hash": "4f1d59c3b711d8941e9549770f3276d4d7e5d7a0c89b92f2f87eb306ff702023"
   }
  }
 },
 "nbformat": 4,
 "nbformat_minor": 2
}
