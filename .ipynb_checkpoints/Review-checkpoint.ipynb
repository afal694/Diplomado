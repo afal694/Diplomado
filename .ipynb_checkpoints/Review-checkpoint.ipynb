{
 "cells": [
  {
   "cell_type": "markdown",
   "metadata": {},
   "source": [
    "# NVIDIA LLM NeMo MegaTron\n",
    "\n",
    "- Crecimiento en el mercado de procesadores de lenguaje natural \n",
    "- La industria está creando los  LLM, grandes NLP con inmensas cantidades de parámetros (cientos de millones, de billones de parámetros)\n",
    "- El lanzamiento del Open Pretrained Transformer, un modelo de lenguaje que ha transformado los NLP y AI\n",
    "- Nvidia hace unos años menciona que AI, ML y DL son claves en su crecimiento\n",
    "- Ujval Kapasi (Vice-presidente Nvidia): Cuando un NLP tiene cantidad de parámetros de cientos de billones a trillones, tienen un gran potencial para múltiples aplicaciones sin necesidad de reentrenarlos, como es usual en otros tipos de NN. \n",
    "- El reto es optimizar la arquitectura de las GPU's para el entrenamiento de LLM (grandes cantidades de parámetros) (Kapasi) en un tiempo razonable\n",
    "- Multiplicación de matrcies con Tensor Paralellism es relativamente eficiente, pero en cantidades grandes la capacidad de cómputo se vuelve considerable\n",
    "- SP (Sequence Paralellism) y SAR (selective Activation Recomputation) son nuevas técnicas que combinadas reducen la cantidad de memoria hasta por 5 veces\n",
    "- HyperParameter tool: Diseñada para automáticamente encontrar el correcto entrenamiento y configuraciones sin cambios de código.\n",
    "- NeMo Megatron: Un framkework LLM de **Nvidia** actualizado con estas dos nuevas técnicas para optimizar el tiempo de entrenamiento hasta en un 30%."
   ]
  },
  {
   "cell_type": "markdown",
   "id": "b6af66ee",
   "metadata": {},
   "source": [
    "![alt text](./images/SP_MegaTron.png)"
   ]
  },
  {
   "cell_type": "markdown",
   "metadata": {},
   "source": [
    "![alt text](./images/SAR_MegaTron.png)"
   ]
  },
  {
   "cell_type": "markdown",
   "metadata": {},
   "source": [
    "## Temporal Fusion Transformer\n",
    "\n",
    "- Time Series Forecasting\n",
    "- TFT (Temporal Fusion Transformer):\n",
    "Ofrece una arquitectura de redes neuronales que integra los mecanismos de otras arquitecturas que puede generar como sus hermanos (RNN y TCN) pronósticos probabilísticos.\n",
    "- Probabilistic forecast (Pronóstico probabilístico): A comparación del Deterministic forecast (Pronóstico determinístico) puede estimar la diferencia entre el valor pronosticado y el verdadero. Puede incluso dibujar un gráfico del posible error de predicción\n",
    "\n",
    "- Para eso se necesita cambiar la función loss function para trabajar con *quantile regression*\n",
    "\n",
    "> *\"crucial para la practicidad de la regresión por cuantiles es que los cuantiles se pueden expresar como la solución de un problema de minimización\"*: Wikipedia\n",
    "\n",
    "\n"
   ]
  },
  {
   "cell_type": "markdown",
   "metadata": {},
   "source": [
    "## Cuantiles\n",
    "\n",
    "Los cuantiles son puntos tomados a intervalos regulares de la función de distribución de una variable aleatoria. \n",
    "\n",
    "- Los **cuartiles**, que dividen a la distribución en cuatro partes (corresponden a los cuantiles $0,25$; $0,50$ y $0,75$)\n",
    "- Los **quintiles**, que dividen a la distribución en cinco partes (corresponden a los cuantiles $0,20$; $0,40$; $0,60$ y $0,80$)\n",
    "- Los **deciles**, que dividen a la distribución en diez partes\n",
    "- Los **percentiles**, que dividen a la distribución en cien partes\n",
    "\n",
    "> fuente: wikipedia"
   ]
  },
  {
   "cell_type": "markdown",
   "metadata": {},
   "source": [
    "![alt text](./images/TFT_probForecast.png)"
   ]
  },
  {
   "cell_type": "markdown",
   "metadata": {},
   "source": [
    "# YOLOv5\n",
    "\n",
    "El cohete YOLOv5 es una familia de arquitecturas y modelos de detección de objetos entrenados previamente en el conjunto de datos COCO, y representa la investigación de código abierto de Ultralytics sobre métodos de IA de visión futura, que incorpora lecciones aprendidas y mejores prácticas desarrolladas durante miles de horas de investigación y desarrollo.\n",
    "\n",
    "YOLO es un acrónimo de *\"You only look once\"*\n",
    "\n",
    "Es un algoritmo que divide imágenes en un sistema de grillas. Cada celda en la grilla es responsable de detectar objectos por si misma.\n",
    "\n",
    "Actualmente es uno de los más famosos algoritmos de detección de objetos debido a su velocidad y precisión.\n",
    "\n",
    "![yolo-image](./images/Yolo.png)\n"
   ]
  },
  {
   "cell_type": "markdown",
   "metadata": {},
   "source": [
    "# Midjourney\n",
    "\n",
    "> Esta es una Inteligencia Artificial (IA) que te realiza una ilustración a partir de un simple o complejo texto \n",
    "\n",
    "![alt text](./images/MidJourney.png)\n",
    "\n",
    "\n",
    "> universe, supernova, beautiful\n",
    "\n",
    "![alt text](./images/afal315_universe_supernova_beautiful_6e7a36fb-4306-4a1d-8cb8-ed5eb2a3ab78.png)\n",
    "\n"
   ]
  }
 ],
 "metadata": {
  "kernelspec": {
   "display_name": "Python 3.7.3 64-bit",
   "language": "python",
   "name": "python3"
  },
  "language_info": {
   "codemirror_mode": {
    "name": "ipython",
    "version": 3
   },
   "file_extension": ".py",
   "mimetype": "text/x-python",
   "name": "python",
   "nbconvert_exporter": "python",
   "pygments_lexer": "ipython3",
   "version": "3.7.3"
  },
  "orig_nbformat": 4,
  "vscode": {
   "interpreter": {
    "hash": "916dbcbb3f70747c44a77c7bcd40155683ae19c65e1c03b4aa3499c5328201f1"
   }
  }
 },
 "nbformat": 4,
 "nbformat_minor": 2
}
