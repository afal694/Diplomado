{
 "cells": [
  {
   "cell_type": "markdown",
   "id": "686443e7-4a6a-4842-8cdd-b8b7e9da715b",
   "metadata": {},
   "source": [
    "## NVIDIA LLM"
   ]
  },
  {
   "cell_type": "code",
   "execution_count": null,
   "id": "cb535fa6-c3c9-43e5-a127-37866c10be9d",
   "metadata": {},
   "outputs": [],
   "source": [
    "- Crecimiento en el mercado de procesadores de lenguaje natural \n",
    "- La industria está creando los  LLM, grandes NLP con inmensas cantidades de parámetros (cientos de millones, de billones de parámetros)\n",
    "- "
   ]
  }
 ],
 "metadata": {
  "kernelspec": {
   "display_name": "Python 3 (ipykernel)",
   "language": "python",
   "name": "python3"
  },
  "language_info": {
   "codemirror_mode": {
    "name": "ipython",
    "version": 3
   },
   "file_extension": ".py",
   "mimetype": "text/x-python",
   "name": "python",
   "nbconvert_exporter": "python",
   "pygments_lexer": "ipython3",
   "version": "3.9.12"
  }
 },
 "nbformat": 4,
 "nbformat_minor": 5
}
