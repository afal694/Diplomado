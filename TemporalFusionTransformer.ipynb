{
 "cells": [
  {
   "cell_type": "markdown",
   "metadata": {},
   "source": [
    "## Temporal Fusion Transformer\n",
    "\n",
    "- Time Series Forecasting\n",
    "- TFT (Temporal Fusion Transformer):\n",
    "Ofrece una arquitectura de redes neuronales que integra los mecanismos de otras arquitecturas que puede generar como sus hermanos (RNN y TCN) pronósticos probabilísticos.\n",
    "- Probabilistic forecast (Pronóstico probabilístico): A comparación del Deterministic forecast (Pronóstico determinístico) puede estimar la diferencia entre el valor pronosticado y el verdadero. Puede incluso dibujar un gráfico del posible error de predicción\n",
    "![alt text](./images/TFT_probForecast.png)\n",
    "- Para eso se necesita cambiar la función loss function para trabajar con *quantile regression*\n",
    "\n",
    "> *\"crucial para la practicidad de la regresión por cuantiles es que los cuantiles se pueden expresar como la solución de un problema de minimización\"*: Wikipedia\n",
    "\n",
    "\n"
   ]
  }
 ],
 "metadata": {
  "kernelspec": {
   "display_name": "Python 3.7.3 64-bit",
   "language": "python",
   "name": "python3"
  },
  "language_info": {
   "name": "python",
   "version": "3.7.3"
  },
  "orig_nbformat": 4,
  "vscode": {
   "interpreter": {
    "hash": "916dbcbb3f70747c44a77c7bcd40155683ae19c65e1c03b4aa3499c5328201f1"
   }
  }
 },
 "nbformat": 4,
 "nbformat_minor": 2
}
