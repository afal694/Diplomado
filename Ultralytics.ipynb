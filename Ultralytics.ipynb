{
 "cells": [
  {
   "cell_type": "markdown",
   "metadata": {},
   "source": [
    "# YOLOv5\n",
    "\n",
    "El cohete YOLOv5 es una familia de arquitecturas y modelos de detección de objetos entrenados previamente en el conjunto de datos COCO, y representa la investigación de código abierto de Ultralytics sobre métodos de IA de visión futura, que incorpora lecciones aprendidas y mejores prácticas desarrolladas durante miles de horas de investigación y desarrollo.\n"
   ]
  }
 ],
 "metadata": {
  "kernelspec": {
   "display_name": "Python 3.7.3 64-bit",
   "language": "python",
   "name": "python3"
  },
  "language_info": {
   "name": "python",
   "version": "3.7.3"
  },
  "orig_nbformat": 4,
  "vscode": {
   "interpreter": {
    "hash": "916dbcbb3f70747c44a77c7bcd40155683ae19c65e1c03b4aa3499c5328201f1"
   }
  }
 },
 "nbformat": 4,
 "nbformat_minor": 2
}
