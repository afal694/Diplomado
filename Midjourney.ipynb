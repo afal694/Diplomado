{
 "cells": [
  {
   "cell_type": "markdown",
   "metadata": {},
   "source": [
    "# Midjourney\n",
    "\n",
    "> Esta es una Inteligencia Artificial (IA) que te realiza una ilustración a partir de un simple o complejo texto \n",
    "\n",
    "![alt text](./images/MidJourney.png)\n",
    "\n",
    "\n",
    "> universe, supernova, beautiful\n",
    "\n",
    "![alt text](./images/afal315_universe_supernova_beautiful_6e7a36fb-4306-4a1d-8cb8-ed5eb2a3ab78.png)\n",
    "\n"
   ]
  }
 ],
 "metadata": {
  "kernelspec": {
   "display_name": "Python 3.7.3 64-bit",
   "language": "python",
   "name": "python3"
  },
  "language_info": {
   "name": "python",
   "version": "3.7.3"
  },
  "orig_nbformat": 4,
  "vscode": {
   "interpreter": {
    "hash": "916dbcbb3f70747c44a77c7bcd40155683ae19c65e1c03b4aa3499c5328201f1"
   }
  }
 },
 "nbformat": 4,
 "nbformat_minor": 2
}
